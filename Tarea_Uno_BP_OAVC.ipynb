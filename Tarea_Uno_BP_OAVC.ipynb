{
  "nbformat": 4,
  "nbformat_minor": 0,
  "metadata": {
    "colab": {
      "provenance": []
    },
    "kernelspec": {
      "name": "python3",
      "display_name": "Python 3"
    },
    "language_info": {
      "name": "python"
    }
  },
  "cells": [
    {
      "cell_type": "code",
      "execution_count": 76,
      "metadata": {
        "id": "PCm1b1mmcukF"
      },
      "outputs": [],
      "source": [
        "import pandas as pd\n",
        "import numpy as np\n",
        "import matplotlib.pyplot as plt"
      ]
    },
    {
      "cell_type": "code",
      "source": [
        "df=pd.read_csv('finanzas2020[1].csv', sep='\\t')"
      ],
      "metadata": {
        "id": "SLFAhreadKDl"
      },
      "execution_count": 33,
      "outputs": []
    },
    {
      "cell_type": "code",
      "source": [
        "df.shape"
      ],
      "metadata": {
        "colab": {
          "base_uri": "https://localhost:8080/"
        },
        "id": "LdeHrmnKs9rU",
        "outputId": "552e58f8-ba84-48dc-8ec2-0d414a33b6a6"
      },
      "execution_count": 81,
      "outputs": [
        {
          "output_type": "execute_result",
          "data": {
            "text/plain": [
              "(100, 12)"
            ]
          },
          "metadata": {},
          "execution_count": 81
        }
      ]
    },
    {
      "cell_type": "code",
      "source": [
        "df.head()"
      ],
      "metadata": {
        "colab": {
          "base_uri": "https://localhost:8080/",
          "height": 206
        },
        "id": "zAY-mYnOdURz",
        "outputId": "cb62fa48-26ae-4fc4-87fa-b1f5444861e5"
      },
      "execution_count": 34,
      "outputs": [
        {
          "output_type": "execute_result",
          "data": {
            "text/plain": [
              "  Enero  Febrero  Marzo  Abril  Mayo  Junio Julio  Agosto Septiembre Octubre  \\\n",
              "0  -760      343    265   -624  -390   -796   601    -780       -491     645   \n",
              "1   223      491   -397   -123     6   -115   157    -741       -951     267   \n",
              "2  -872     -913    558    278   544   -223   607    -113        348     576   \n",
              "3   111     -842    730   -761   158   -963  -290    -669        191     130   \n",
              "4   919      111   -688     15   395      9   553     297       -302     695   \n",
              "\n",
              "  Noviembre  Diciembre  \n",
              "0      -248        714  \n",
              "1        14       -596  \n",
              "2      -977        195  \n",
              "3       170       -274  \n",
              "4       730       -731  "
            ],
            "text/html": [
              "\n",
              "  <div id=\"df-ced17f74-00df-4707-8b7d-2e0a2b51d9b7\">\n",
              "    <div class=\"colab-df-container\">\n",
              "      <div>\n",
              "<style scoped>\n",
              "    .dataframe tbody tr th:only-of-type {\n",
              "        vertical-align: middle;\n",
              "    }\n",
              "\n",
              "    .dataframe tbody tr th {\n",
              "        vertical-align: top;\n",
              "    }\n",
              "\n",
              "    .dataframe thead th {\n",
              "        text-align: right;\n",
              "    }\n",
              "</style>\n",
              "<table border=\"1\" class=\"dataframe\">\n",
              "  <thead>\n",
              "    <tr style=\"text-align: right;\">\n",
              "      <th></th>\n",
              "      <th>Enero</th>\n",
              "      <th>Febrero</th>\n",
              "      <th>Marzo</th>\n",
              "      <th>Abril</th>\n",
              "      <th>Mayo</th>\n",
              "      <th>Junio</th>\n",
              "      <th>Julio</th>\n",
              "      <th>Agosto</th>\n",
              "      <th>Septiembre</th>\n",
              "      <th>Octubre</th>\n",
              "      <th>Noviembre</th>\n",
              "      <th>Diciembre</th>\n",
              "    </tr>\n",
              "  </thead>\n",
              "  <tbody>\n",
              "    <tr>\n",
              "      <th>0</th>\n",
              "      <td>-760</td>\n",
              "      <td>343</td>\n",
              "      <td>265</td>\n",
              "      <td>-624</td>\n",
              "      <td>-390</td>\n",
              "      <td>-796</td>\n",
              "      <td>601</td>\n",
              "      <td>-780</td>\n",
              "      <td>-491</td>\n",
              "      <td>645</td>\n",
              "      <td>-248</td>\n",
              "      <td>714</td>\n",
              "    </tr>\n",
              "    <tr>\n",
              "      <th>1</th>\n",
              "      <td>223</td>\n",
              "      <td>491</td>\n",
              "      <td>-397</td>\n",
              "      <td>-123</td>\n",
              "      <td>6</td>\n",
              "      <td>-115</td>\n",
              "      <td>157</td>\n",
              "      <td>-741</td>\n",
              "      <td>-951</td>\n",
              "      <td>267</td>\n",
              "      <td>14</td>\n",
              "      <td>-596</td>\n",
              "    </tr>\n",
              "    <tr>\n",
              "      <th>2</th>\n",
              "      <td>-872</td>\n",
              "      <td>-913</td>\n",
              "      <td>558</td>\n",
              "      <td>278</td>\n",
              "      <td>544</td>\n",
              "      <td>-223</td>\n",
              "      <td>607</td>\n",
              "      <td>-113</td>\n",
              "      <td>348</td>\n",
              "      <td>576</td>\n",
              "      <td>-977</td>\n",
              "      <td>195</td>\n",
              "    </tr>\n",
              "    <tr>\n",
              "      <th>3</th>\n",
              "      <td>111</td>\n",
              "      <td>-842</td>\n",
              "      <td>730</td>\n",
              "      <td>-761</td>\n",
              "      <td>158</td>\n",
              "      <td>-963</td>\n",
              "      <td>-290</td>\n",
              "      <td>-669</td>\n",
              "      <td>191</td>\n",
              "      <td>130</td>\n",
              "      <td>170</td>\n",
              "      <td>-274</td>\n",
              "    </tr>\n",
              "    <tr>\n",
              "      <th>4</th>\n",
              "      <td>919</td>\n",
              "      <td>111</td>\n",
              "      <td>-688</td>\n",
              "      <td>15</td>\n",
              "      <td>395</td>\n",
              "      <td>9</td>\n",
              "      <td>553</td>\n",
              "      <td>297</td>\n",
              "      <td>-302</td>\n",
              "      <td>695</td>\n",
              "      <td>730</td>\n",
              "      <td>-731</td>\n",
              "    </tr>\n",
              "  </tbody>\n",
              "</table>\n",
              "</div>\n",
              "      <button class=\"colab-df-convert\" onclick=\"convertToInteractive('df-ced17f74-00df-4707-8b7d-2e0a2b51d9b7')\"\n",
              "              title=\"Convert this dataframe to an interactive table.\"\n",
              "              style=\"display:none;\">\n",
              "        \n",
              "  <svg xmlns=\"http://www.w3.org/2000/svg\" height=\"24px\"viewBox=\"0 0 24 24\"\n",
              "       width=\"24px\">\n",
              "    <path d=\"M0 0h24v24H0V0z\" fill=\"none\"/>\n",
              "    <path d=\"M18.56 5.44l.94 2.06.94-2.06 2.06-.94-2.06-.94-.94-2.06-.94 2.06-2.06.94zm-11 1L8.5 8.5l.94-2.06 2.06-.94-2.06-.94L8.5 2.5l-.94 2.06-2.06.94zm10 10l.94 2.06.94-2.06 2.06-.94-2.06-.94-.94-2.06-.94 2.06-2.06.94z\"/><path d=\"M17.41 7.96l-1.37-1.37c-.4-.4-.92-.59-1.43-.59-.52 0-1.04.2-1.43.59L10.3 9.45l-7.72 7.72c-.78.78-.78 2.05 0 2.83L4 21.41c.39.39.9.59 1.41.59.51 0 1.02-.2 1.41-.59l7.78-7.78 2.81-2.81c.8-.78.8-2.07 0-2.86zM5.41 20L4 18.59l7.72-7.72 1.47 1.35L5.41 20z\"/>\n",
              "  </svg>\n",
              "      </button>\n",
              "      \n",
              "  <style>\n",
              "    .colab-df-container {\n",
              "      display:flex;\n",
              "      flex-wrap:wrap;\n",
              "      gap: 12px;\n",
              "    }\n",
              "\n",
              "    .colab-df-convert {\n",
              "      background-color: #E8F0FE;\n",
              "      border: none;\n",
              "      border-radius: 50%;\n",
              "      cursor: pointer;\n",
              "      display: none;\n",
              "      fill: #1967D2;\n",
              "      height: 32px;\n",
              "      padding: 0 0 0 0;\n",
              "      width: 32px;\n",
              "    }\n",
              "\n",
              "    .colab-df-convert:hover {\n",
              "      background-color: #E2EBFA;\n",
              "      box-shadow: 0px 1px 2px rgba(60, 64, 67, 0.3), 0px 1px 3px 1px rgba(60, 64, 67, 0.15);\n",
              "      fill: #174EA6;\n",
              "    }\n",
              "\n",
              "    [theme=dark] .colab-df-convert {\n",
              "      background-color: #3B4455;\n",
              "      fill: #D2E3FC;\n",
              "    }\n",
              "\n",
              "    [theme=dark] .colab-df-convert:hover {\n",
              "      background-color: #434B5C;\n",
              "      box-shadow: 0px 1px 3px 1px rgba(0, 0, 0, 0.15);\n",
              "      filter: drop-shadow(0px 1px 2px rgba(0, 0, 0, 0.3));\n",
              "      fill: #FFFFFF;\n",
              "    }\n",
              "  </style>\n",
              "\n",
              "      <script>\n",
              "        const buttonEl =\n",
              "          document.querySelector('#df-ced17f74-00df-4707-8b7d-2e0a2b51d9b7 button.colab-df-convert');\n",
              "        buttonEl.style.display =\n",
              "          google.colab.kernel.accessAllowed ? 'block' : 'none';\n",
              "\n",
              "        async function convertToInteractive(key) {\n",
              "          const element = document.querySelector('#df-ced17f74-00df-4707-8b7d-2e0a2b51d9b7');\n",
              "          const dataTable =\n",
              "            await google.colab.kernel.invokeFunction('convertToInteractive',\n",
              "                                                     [key], {});\n",
              "          if (!dataTable) return;\n",
              "\n",
              "          const docLinkHtml = 'Like what you see? Visit the ' +\n",
              "            '<a target=\"_blank\" href=https://colab.research.google.com/notebooks/data_table.ipynb>data table notebook</a>'\n",
              "            + ' to learn more about interactive tables.';\n",
              "          element.innerHTML = '';\n",
              "          dataTable['output_type'] = 'display_data';\n",
              "          await google.colab.output.renderOutput(dataTable, element);\n",
              "          const docLink = document.createElement('div');\n",
              "          docLink.innerHTML = docLinkHtml;\n",
              "          element.appendChild(docLink);\n",
              "        }\n",
              "      </script>\n",
              "    </div>\n",
              "  </div>\n",
              "  "
            ]
          },
          "metadata": {},
          "execution_count": 34
        }
      ]
    },
    {
      "cell_type": "code",
      "source": [
        "df.info()"
      ],
      "metadata": {
        "colab": {
          "base_uri": "https://localhost:8080/"
        },
        "id": "niDIXLvkfmqQ",
        "outputId": "3f957cae-3ec7-45cb-9fe8-31660374930b"
      },
      "execution_count": 35,
      "outputs": [
        {
          "output_type": "stream",
          "name": "stdout",
          "text": [
            "<class 'pandas.core.frame.DataFrame'>\n",
            "RangeIndex: 100 entries, 0 to 99\n",
            "Data columns (total 12 columns):\n",
            " #   Column      Non-Null Count  Dtype \n",
            "---  ------      --------------  ----- \n",
            " 0   Enero       100 non-null    object\n",
            " 1   Febrero     100 non-null    int64 \n",
            " 2   Marzo       100 non-null    int64 \n",
            " 3   Abril       100 non-null    int64 \n",
            " 4   Mayo        100 non-null    int64 \n",
            " 5   Junio       100 non-null    int64 \n",
            " 6   Julio       100 non-null    object\n",
            " 7   Agosto      100 non-null    int64 \n",
            " 8   Septiembre  100 non-null    object\n",
            " 9   Octubre     100 non-null    object\n",
            " 10  Noviembre   100 non-null    object\n",
            " 11  Diciembre   100 non-null    int64 \n",
            "dtypes: int64(7), object(5)\n",
            "memory usage: 9.5+ KB\n"
          ]
        }
      ]
    },
    {
      "cell_type": "code",
      "source": [
        "df['Enero'] = df['Enero'].str.replace(\"'\",\"\")"
      ],
      "metadata": {
        "id": "z4WjaM2WguHT"
      },
      "execution_count": 36,
      "outputs": []
    },
    {
      "cell_type": "code",
      "source": [
        "df['Enero'] = df['Enero'].astype('int')"
      ],
      "metadata": {
        "id": "QFYKSJacfuWd"
      },
      "execution_count": 37,
      "outputs": []
    },
    {
      "cell_type": "code",
      "source": [
        "df['Julio'] = df['Julio'].str.replace(\"'\",\"\")"
      ],
      "metadata": {
        "id": "6tWmZMDXh4Vi"
      },
      "execution_count": 38,
      "outputs": []
    },
    {
      "cell_type": "code",
      "source": [
        "df['Julio'] = df['Julio'].astype('int')"
      ],
      "metadata": {
        "id": "QmuF8sNggL0t"
      },
      "execution_count": 39,
      "outputs": []
    },
    {
      "cell_type": "code",
      "source": [
        "df['Septiembre'] = df['Septiembre'].str.replace(\"bug\",str(np.nan))"
      ],
      "metadata": {
        "id": "lXh2uWQRiB4g"
      },
      "execution_count": 41,
      "outputs": []
    },
    {
      "cell_type": "code",
      "source": [
        "df['Septiembre'] = df['Septiembre'].str.replace(\"nan\",\"0\")"
      ],
      "metadata": {
        "id": "b00xNdTikP7z"
      },
      "execution_count": 45,
      "outputs": []
    },
    {
      "cell_type": "code",
      "source": [
        "df['Septiembre'] = df['Septiembre'].astype('int')"
      ],
      "metadata": {
        "id": "D8zy0evvgY3d"
      },
      "execution_count": 46,
      "outputs": []
    },
    {
      "cell_type": "code",
      "source": [
        "df['Octubre'] = df['Octubre'].str.replace(\"ups\",\"0\")"
      ],
      "metadata": {
        "id": "_gWlst1ukaG8"
      },
      "execution_count": 47,
      "outputs": []
    },
    {
      "cell_type": "code",
      "source": [
        "df['Octubre'] = df['Octubre'].astype('int')"
      ],
      "metadata": {
        "id": "6JGwmnwrgd1v"
      },
      "execution_count": 48,
      "outputs": []
    },
    {
      "cell_type": "code",
      "source": [
        "df['Noviembre'] = df['Noviembre'].str.replace(\"'\",\"\")"
      ],
      "metadata": {
        "id": "nDyL3zq4kgkI"
      },
      "execution_count": 49,
      "outputs": []
    },
    {
      "cell_type": "code",
      "source": [
        "df['Noviembre'] = df['Noviembre'].astype('int')"
      ],
      "metadata": {
        "id": "o3RIXGu3gmiM"
      },
      "execution_count": 50,
      "outputs": []
    },
    {
      "cell_type": "code",
      "source": [
        "df.info()"
      ],
      "metadata": {
        "colab": {
          "base_uri": "https://localhost:8080/"
        },
        "id": "giguvvFYknKj",
        "outputId": "733673ae-cbda-4a5d-a545-ad231464bc22"
      },
      "execution_count": 51,
      "outputs": [
        {
          "output_type": "stream",
          "name": "stdout",
          "text": [
            "<class 'pandas.core.frame.DataFrame'>\n",
            "RangeIndex: 100 entries, 0 to 99\n",
            "Data columns (total 12 columns):\n",
            " #   Column      Non-Null Count  Dtype\n",
            "---  ------      --------------  -----\n",
            " 0   Enero       100 non-null    int64\n",
            " 1   Febrero     100 non-null    int64\n",
            " 2   Marzo       100 non-null    int64\n",
            " 3   Abril       100 non-null    int64\n",
            " 4   Mayo        100 non-null    int64\n",
            " 5   Junio       100 non-null    int64\n",
            " 6   Julio       100 non-null    int64\n",
            " 7   Agosto      100 non-null    int64\n",
            " 8   Septiembre  100 non-null    int64\n",
            " 9   Octubre     100 non-null    int64\n",
            " 10  Noviembre   100 non-null    int64\n",
            " 11  Diciembre   100 non-null    int64\n",
            "dtypes: int64(12)\n",
            "memory usage: 9.5 KB\n"
          ]
        }
      ]
    },
    {
      "cell_type": "code",
      "source": [
        "df.sum().sort_values(ascending=True)"
      ],
      "metadata": {
        "colab": {
          "base_uri": "https://localhost:8080/"
        },
        "id": "UZ7x4feDlw51",
        "outputId": "82aac0e9-878a-4fd8-afbd-8eea7b71210e"
      },
      "execution_count": 59,
      "outputs": [
        {
          "output_type": "execute_result",
          "data": {
            "text/plain": [
              "Abril        -18933\n",
              "Septiembre   -10948\n",
              "Agosto        -8735\n",
              "Marzo         -7969\n",
              "Diciembre     -3044\n",
              "Junio         -1477\n",
              "Febrero          39\n",
              "Noviembre      1157\n",
              "Octubre        3412\n",
              "Julio          7698\n",
              "Mayo          10304\n",
              "Enero         11523\n",
              "dtype: int64"
            ]
          },
          "metadata": {},
          "execution_count": 59
        }
      ]
    },
    {
      "cell_type": "code",
      "source": [
        "df.sum().mean()"
      ],
      "metadata": {
        "colab": {
          "base_uri": "https://localhost:8080/"
        },
        "id": "K34-xUOqsM5R",
        "outputId": "ca49115e-ecc5-49f3-e0ac-10f505a77229"
      },
      "execution_count": 79,
      "outputs": [
        {
          "output_type": "execute_result",
          "data": {
            "text/plain": [
              "-1414.4166666666667"
            ]
          },
          "metadata": {},
          "execution_count": 79
        }
      ]
    },
    {
      "cell_type": "code",
      "source": [
        "media = df[df < 0].sum().mean()\n",
        "media"
      ],
      "metadata": {
        "colab": {
          "base_uri": "https://localhost:8080/"
        },
        "id": "3KuJZeQOsWPN",
        "outputId": "39e62d4a-df54-4e59-f7e6-77140c6dcc42"
      },
      "execution_count": 80,
      "outputs": [
        {
          "output_type": "execute_result",
          "data": {
            "text/plain": [
              "-24827.833333333332"
            ]
          },
          "metadata": {},
          "execution_count": 80
        }
      ]
    },
    {
      "cell_type": "code",
      "source": [
        "neg_total = df[df < 0].sum().sum()\n",
        "neg_total"
      ],
      "metadata": {
        "colab": {
          "base_uri": "https://localhost:8080/"
        },
        "id": "3A8bd9OxptLl",
        "outputId": "b63d81fe-2aa6-49a5-b8cf-fbdd1e14dbde"
      },
      "execution_count": 73,
      "outputs": [
        {
          "output_type": "execute_result",
          "data": {
            "text/plain": [
              "-297934.0"
            ]
          },
          "metadata": {},
          "execution_count": 73
        }
      ]
    },
    {
      "cell_type": "code",
      "source": [
        "pos_total = df[df > 0].sum().sum()\n",
        "pos_total"
      ],
      "metadata": {
        "colab": {
          "base_uri": "https://localhost:8080/"
        },
        "id": "dodl7dTOowNJ",
        "outputId": "31534e3c-3212-4530-ecf0-7515375f6aa2"
      },
      "execution_count": 75,
      "outputs": [
        {
          "output_type": "execute_result",
          "data": {
            "text/plain": [
              "280961.0"
            ]
          },
          "metadata": {},
          "execution_count": 75
        }
      ]
    },
    {
      "cell_type": "code",
      "source": [
        "df.describe()"
      ],
      "metadata": {
        "colab": {
          "base_uri": "https://localhost:8080/",
          "height": 364
        },
        "id": "-Y-O5ki5eCa0",
        "outputId": "faaac26d-cc26-46cb-e268-6a8183571736"
      },
      "execution_count": 62,
      "outputs": [
        {
          "output_type": "execute_result",
          "data": {
            "text/plain": [
              "            Enero     Febrero       Marzo       Abril        Mayo       Junio  \\\n",
              "count  100.000000  100.000000  100.000000  100.000000  100.000000  100.000000   \n",
              "mean   115.230000    0.390000  -79.690000 -189.330000  103.040000  -14.770000   \n",
              "std    545.948842  573.923743  585.916595  538.862139  507.166817  560.952596   \n",
              "min   -966.000000 -989.000000 -979.000000 -960.000000 -981.000000 -978.000000   \n",
              "25%   -359.000000 -475.000000 -586.500000 -666.500000 -368.000000 -476.750000   \n",
              "50%    169.500000   -0.500000 -159.000000 -212.500000  151.000000  -50.000000   \n",
              "75%    541.750000  442.500000  390.750000  235.750000  539.500000  472.750000   \n",
              "max    990.000000  992.000000  999.000000  897.000000  998.000000  989.000000   \n",
              "\n",
              "            Julio      Agosto  Septiembre     Octubre   Noviembre   Diciembre  \n",
              "count  100.000000  100.000000  100.000000  100.000000  100.000000  100.000000  \n",
              "mean    76.980000  -87.350000 -109.480000   34.120000   11.570000  -30.440000  \n",
              "std    533.468164  559.822399  545.570288  568.993623  583.819006  568.313424  \n",
              "min   -994.000000 -987.000000 -980.000000 -988.000000 -977.000000 -991.000000  \n",
              "25%   -292.250000 -580.500000 -525.250000 -481.000000 -539.750000 -538.000000  \n",
              "50%     91.500000 -163.000000 -139.500000   71.500000   44.000000    0.500000  \n",
              "75%    528.250000  367.250000  348.000000  499.750000  445.250000  426.250000  \n",
              "max    926.000000  955.000000  978.000000  995.000000  985.000000  980.000000  "
            ],
            "text/html": [
              "\n",
              "  <div id=\"df-993915df-a0dd-482d-8fe5-1fe7d0abb062\">\n",
              "    <div class=\"colab-df-container\">\n",
              "      <div>\n",
              "<style scoped>\n",
              "    .dataframe tbody tr th:only-of-type {\n",
              "        vertical-align: middle;\n",
              "    }\n",
              "\n",
              "    .dataframe tbody tr th {\n",
              "        vertical-align: top;\n",
              "    }\n",
              "\n",
              "    .dataframe thead th {\n",
              "        text-align: right;\n",
              "    }\n",
              "</style>\n",
              "<table border=\"1\" class=\"dataframe\">\n",
              "  <thead>\n",
              "    <tr style=\"text-align: right;\">\n",
              "      <th></th>\n",
              "      <th>Enero</th>\n",
              "      <th>Febrero</th>\n",
              "      <th>Marzo</th>\n",
              "      <th>Abril</th>\n",
              "      <th>Mayo</th>\n",
              "      <th>Junio</th>\n",
              "      <th>Julio</th>\n",
              "      <th>Agosto</th>\n",
              "      <th>Septiembre</th>\n",
              "      <th>Octubre</th>\n",
              "      <th>Noviembre</th>\n",
              "      <th>Diciembre</th>\n",
              "    </tr>\n",
              "  </thead>\n",
              "  <tbody>\n",
              "    <tr>\n",
              "      <th>count</th>\n",
              "      <td>100.000000</td>\n",
              "      <td>100.000000</td>\n",
              "      <td>100.000000</td>\n",
              "      <td>100.000000</td>\n",
              "      <td>100.000000</td>\n",
              "      <td>100.000000</td>\n",
              "      <td>100.000000</td>\n",
              "      <td>100.000000</td>\n",
              "      <td>100.000000</td>\n",
              "      <td>100.000000</td>\n",
              "      <td>100.000000</td>\n",
              "      <td>100.000000</td>\n",
              "    </tr>\n",
              "    <tr>\n",
              "      <th>mean</th>\n",
              "      <td>115.230000</td>\n",
              "      <td>0.390000</td>\n",
              "      <td>-79.690000</td>\n",
              "      <td>-189.330000</td>\n",
              "      <td>103.040000</td>\n",
              "      <td>-14.770000</td>\n",
              "      <td>76.980000</td>\n",
              "      <td>-87.350000</td>\n",
              "      <td>-109.480000</td>\n",
              "      <td>34.120000</td>\n",
              "      <td>11.570000</td>\n",
              "      <td>-30.440000</td>\n",
              "    </tr>\n",
              "    <tr>\n",
              "      <th>std</th>\n",
              "      <td>545.948842</td>\n",
              "      <td>573.923743</td>\n",
              "      <td>585.916595</td>\n",
              "      <td>538.862139</td>\n",
              "      <td>507.166817</td>\n",
              "      <td>560.952596</td>\n",
              "      <td>533.468164</td>\n",
              "      <td>559.822399</td>\n",
              "      <td>545.570288</td>\n",
              "      <td>568.993623</td>\n",
              "      <td>583.819006</td>\n",
              "      <td>568.313424</td>\n",
              "    </tr>\n",
              "    <tr>\n",
              "      <th>min</th>\n",
              "      <td>-966.000000</td>\n",
              "      <td>-989.000000</td>\n",
              "      <td>-979.000000</td>\n",
              "      <td>-960.000000</td>\n",
              "      <td>-981.000000</td>\n",
              "      <td>-978.000000</td>\n",
              "      <td>-994.000000</td>\n",
              "      <td>-987.000000</td>\n",
              "      <td>-980.000000</td>\n",
              "      <td>-988.000000</td>\n",
              "      <td>-977.000000</td>\n",
              "      <td>-991.000000</td>\n",
              "    </tr>\n",
              "    <tr>\n",
              "      <th>25%</th>\n",
              "      <td>-359.000000</td>\n",
              "      <td>-475.000000</td>\n",
              "      <td>-586.500000</td>\n",
              "      <td>-666.500000</td>\n",
              "      <td>-368.000000</td>\n",
              "      <td>-476.750000</td>\n",
              "      <td>-292.250000</td>\n",
              "      <td>-580.500000</td>\n",
              "      <td>-525.250000</td>\n",
              "      <td>-481.000000</td>\n",
              "      <td>-539.750000</td>\n",
              "      <td>-538.000000</td>\n",
              "    </tr>\n",
              "    <tr>\n",
              "      <th>50%</th>\n",
              "      <td>169.500000</td>\n",
              "      <td>-0.500000</td>\n",
              "      <td>-159.000000</td>\n",
              "      <td>-212.500000</td>\n",
              "      <td>151.000000</td>\n",
              "      <td>-50.000000</td>\n",
              "      <td>91.500000</td>\n",
              "      <td>-163.000000</td>\n",
              "      <td>-139.500000</td>\n",
              "      <td>71.500000</td>\n",
              "      <td>44.000000</td>\n",
              "      <td>0.500000</td>\n",
              "    </tr>\n",
              "    <tr>\n",
              "      <th>75%</th>\n",
              "      <td>541.750000</td>\n",
              "      <td>442.500000</td>\n",
              "      <td>390.750000</td>\n",
              "      <td>235.750000</td>\n",
              "      <td>539.500000</td>\n",
              "      <td>472.750000</td>\n",
              "      <td>528.250000</td>\n",
              "      <td>367.250000</td>\n",
              "      <td>348.000000</td>\n",
              "      <td>499.750000</td>\n",
              "      <td>445.250000</td>\n",
              "      <td>426.250000</td>\n",
              "    </tr>\n",
              "    <tr>\n",
              "      <th>max</th>\n",
              "      <td>990.000000</td>\n",
              "      <td>992.000000</td>\n",
              "      <td>999.000000</td>\n",
              "      <td>897.000000</td>\n",
              "      <td>998.000000</td>\n",
              "      <td>989.000000</td>\n",
              "      <td>926.000000</td>\n",
              "      <td>955.000000</td>\n",
              "      <td>978.000000</td>\n",
              "      <td>995.000000</td>\n",
              "      <td>985.000000</td>\n",
              "      <td>980.000000</td>\n",
              "    </tr>\n",
              "  </tbody>\n",
              "</table>\n",
              "</div>\n",
              "      <button class=\"colab-df-convert\" onclick=\"convertToInteractive('df-993915df-a0dd-482d-8fe5-1fe7d0abb062')\"\n",
              "              title=\"Convert this dataframe to an interactive table.\"\n",
              "              style=\"display:none;\">\n",
              "        \n",
              "  <svg xmlns=\"http://www.w3.org/2000/svg\" height=\"24px\"viewBox=\"0 0 24 24\"\n",
              "       width=\"24px\">\n",
              "    <path d=\"M0 0h24v24H0V0z\" fill=\"none\"/>\n",
              "    <path d=\"M18.56 5.44l.94 2.06.94-2.06 2.06-.94-2.06-.94-.94-2.06-.94 2.06-2.06.94zm-11 1L8.5 8.5l.94-2.06 2.06-.94-2.06-.94L8.5 2.5l-.94 2.06-2.06.94zm10 10l.94 2.06.94-2.06 2.06-.94-2.06-.94-.94-2.06-.94 2.06-2.06.94z\"/><path d=\"M17.41 7.96l-1.37-1.37c-.4-.4-.92-.59-1.43-.59-.52 0-1.04.2-1.43.59L10.3 9.45l-7.72 7.72c-.78.78-.78 2.05 0 2.83L4 21.41c.39.39.9.59 1.41.59.51 0 1.02-.2 1.41-.59l7.78-7.78 2.81-2.81c.8-.78.8-2.07 0-2.86zM5.41 20L4 18.59l7.72-7.72 1.47 1.35L5.41 20z\"/>\n",
              "  </svg>\n",
              "      </button>\n",
              "      \n",
              "  <style>\n",
              "    .colab-df-container {\n",
              "      display:flex;\n",
              "      flex-wrap:wrap;\n",
              "      gap: 12px;\n",
              "    }\n",
              "\n",
              "    .colab-df-convert {\n",
              "      background-color: #E8F0FE;\n",
              "      border: none;\n",
              "      border-radius: 50%;\n",
              "      cursor: pointer;\n",
              "      display: none;\n",
              "      fill: #1967D2;\n",
              "      height: 32px;\n",
              "      padding: 0 0 0 0;\n",
              "      width: 32px;\n",
              "    }\n",
              "\n",
              "    .colab-df-convert:hover {\n",
              "      background-color: #E2EBFA;\n",
              "      box-shadow: 0px 1px 2px rgba(60, 64, 67, 0.3), 0px 1px 3px 1px rgba(60, 64, 67, 0.15);\n",
              "      fill: #174EA6;\n",
              "    }\n",
              "\n",
              "    [theme=dark] .colab-df-convert {\n",
              "      background-color: #3B4455;\n",
              "      fill: #D2E3FC;\n",
              "    }\n",
              "\n",
              "    [theme=dark] .colab-df-convert:hover {\n",
              "      background-color: #434B5C;\n",
              "      box-shadow: 0px 1px 3px 1px rgba(0, 0, 0, 0.15);\n",
              "      filter: drop-shadow(0px 1px 2px rgba(0, 0, 0, 0.3));\n",
              "      fill: #FFFFFF;\n",
              "    }\n",
              "  </style>\n",
              "\n",
              "      <script>\n",
              "        const buttonEl =\n",
              "          document.querySelector('#df-993915df-a0dd-482d-8fe5-1fe7d0abb062 button.colab-df-convert');\n",
              "        buttonEl.style.display =\n",
              "          google.colab.kernel.accessAllowed ? 'block' : 'none';\n",
              "\n",
              "        async function convertToInteractive(key) {\n",
              "          const element = document.querySelector('#df-993915df-a0dd-482d-8fe5-1fe7d0abb062');\n",
              "          const dataTable =\n",
              "            await google.colab.kernel.invokeFunction('convertToInteractive',\n",
              "                                                     [key], {});\n",
              "          if (!dataTable) return;\n",
              "\n",
              "          const docLinkHtml = 'Like what you see? Visit the ' +\n",
              "            '<a target=\"_blank\" href=https://colab.research.google.com/notebooks/data_table.ipynb>data table notebook</a>'\n",
              "            + ' to learn more about interactive tables.';\n",
              "          element.innerHTML = '';\n",
              "          dataTable['output_type'] = 'display_data';\n",
              "          await google.colab.output.renderOutput(dataTable, element);\n",
              "          const docLink = document.createElement('div');\n",
              "          docLink.innerHTML = docLinkHtml;\n",
              "          element.appendChild(docLink);\n",
              "        }\n",
              "      </script>\n",
              "    </div>\n",
              "  </div>\n",
              "  "
            ]
          },
          "metadata": {},
          "execution_count": 62
        }
      ]
    },
    {
      "cell_type": "code",
      "source": [
        "pos_total = df[df > 0].sum()\n",
        "pos_total.plot(kind='bar')\n",
        "plt.xlabel('Mes')\n",
        "plt.ylabel('Ingresos Total')\n",
        "plt.title('Ingresos totales por Mes')\n",
        "plt.show()"
      ],
      "metadata": {
        "colab": {
          "base_uri": "https://localhost:8080/",
          "height": 343
        },
        "id": "HRq3stg5rD2I",
        "outputId": "5c4f3fd5-5884-487c-bf7b-c63f45474384"
      },
      "execution_count": 82,
      "outputs": [
        {
          "output_type": "display_data",
          "data": {
            "text/plain": [
              "<Figure size 432x288 with 1 Axes>"
            ],
            "image/png": "[encoded data removed]"
          },
          "metadata": {
            "needs_background": "light"
          }
        }
      ]
    }
  ]
}